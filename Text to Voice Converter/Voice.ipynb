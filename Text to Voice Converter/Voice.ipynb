{
 "cells": [
  {
   "cell_type": "code",
   "execution_count": 34,
   "id": "0b476c42",
   "metadata": {},
   "outputs": [],
   "source": [
    "from gtts import gTTS\n"
   ]
  },
  {
   "cell_type": "code",
   "execution_count": 35,
   "id": "ed369668",
   "metadata": {},
   "outputs": [],
   "source": [
    "voice=open(\"F:\\PYTHON\\Voice text.txt\")"
   ]
  },
  {
   "cell_type": "code",
   "execution_count": 40,
   "id": "747346b3",
   "metadata": {},
   "outputs": [],
   "source": [
    "text=voice.read()"
   ]
  },
  {
   "cell_type": "code",
   "execution_count": 37,
   "id": "a062f1f8",
   "metadata": {},
   "outputs": [],
   "source": [
    "language=\"en\"\n"
   ]
  },
  {
   "cell_type": "code",
   "execution_count": 38,
   "id": "e1c2c689",
   "metadata": {},
   "outputs": [],
   "source": [
    "obj = gTTS(text = text, lang=language ,slow = False)"
   ]
  },
  {
   "cell_type": "code",
   "execution_count": 39,
   "id": "b2da54f8",
   "metadata": {},
   "outputs": [],
   "source": [
    "obj.save(\"voice.mp3\")"
   ]
  }
 ],
 "metadata": {
  "kernelspec": {
   "display_name": "Python 3",
   "language": "python",
   "name": "python3"
  },
  "language_info": {
   "codemirror_mode": {
    "name": "ipython",
    "version": 3
   },
   "file_extension": ".py",
   "mimetype": "text/x-python",
   "name": "python",
   "nbconvert_exporter": "python",
   "pygments_lexer": "ipython3",
   "version": "3.9.5"
  }
 },
 "nbformat": 4,
 "nbformat_minor": 5
}
